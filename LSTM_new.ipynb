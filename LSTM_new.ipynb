{
 "cells": [
  {
   "cell_type": "code",
   "execution_count": 30,
   "metadata": {},
   "outputs": [],
   "source": [
    "import sqlite3\n",
    "import pandas as pd\n",
    "import numpy as np\n",
    "import tensorflow as tf\n",
    "from tensorflow.keras.models import Sequential\n",
    "from tensorflow.keras.layers import LSTM, Dense, Dropout, RepeatVector, TimeDistributed\n",
    "import matplotlib.pyplot as plt\n",
    "from sklearn.model_selection import train_test_split\n",
    "from sklearn.preprocessing import MinMaxScaler\n",
    "from sklearn.preprocessing import LabelEncoder\n"
   ]
  },
  {
   "cell_type": "code",
   "execution_count": 31,
   "metadata": {},
   "outputs": [
    {
     "name": "stdout",
     "output_type": "stream",
     "text": [
      "                        Date time   Location  shortwave_radiation_tilted  \\\n",
      "0       2023-12-31 23:00:00+00:00  Bielefeld                         0.0   \n",
      "1       2023-12-31 23:15:00+00:00  Bielefeld                         0.0   \n",
      "2       2023-12-31 23:30:00+00:00  Bielefeld                         0.0   \n",
      "3       2023-12-31 23:45:00+00:00  Bielefeld                         0.0   \n",
      "4       2024-01-01 00:00:00+00:00  Bielefeld                         0.0   \n",
      "...                           ...        ...                         ...   \n",
      "390299  2022-03-23 12:45:00+00:00   Victoria                         0.0   \n",
      "390300  2022-03-23 13:00:00+00:00   Victoria                         0.0   \n",
      "390301  2022-03-23 13:00:00+00:00   Victoria                         0.0   \n",
      "390302  2022-03-23 13:00:00+00:00   Victoria                         0.0   \n",
      "390303  2022-03-23 13:00:00+00:00   Victoria                         0.0   \n",
      "\n",
      "        Temperature  kW/kWp  \n",
      "0               7.3     0.0  \n",
      "1               7.5     0.0  \n",
      "2               7.3     0.0  \n",
      "3               7.3     0.0  \n",
      "4               8.0     0.0  \n",
      "...             ...     ...  \n",
      "390299         15.5     0.0  \n",
      "390300         15.5     0.0  \n",
      "390301         15.5     0.0  \n",
      "390302         15.5     0.0  \n",
      "390303         15.5     0.0  \n",
      "\n",
      "[390304 rows x 5 columns]\n"
     ]
    }
   ],
   "source": [
    "conn = sqlite3.connect(r'C:\\Users\\opper\\Master-Arbeit\\data\\preprocessed\\pv_forecast.db')\n",
    "\n",
    "query = f\"\"\"\n",
    "SELECT \"Date time\", Location, shortwave_radiation_tilted, Temperature, \"kW/kWp\"\n",
    "FROM pv_weather_data\n",
    "ORDER BY Location, \"Date time\" ASC\n",
    "\"\"\"\n",
    "# Daten abrufen und in ein DataFrame laden\n",
    "df = pd.read_sql(query, conn)\n",
    "conn.close()\n",
    "\n",
    "# Ausgabe des DataFrames zum Überprüfen\n",
    "print(df)"
   ]
  },
  {
   "cell_type": "code",
   "execution_count": 32,
   "metadata": {},
   "outputs": [],
   "source": [
    "def get_sliding_window(df, datetime_col, feature_cols, target_col, window_size=672, forecast_horizon=96, step_size=1):\n",
    "    df[datetime_col] = pd.to_datetime(df[datetime_col])\n",
    "    df = df.sort_values(by=datetime_col).reset_index(drop=True)\n",
    "\n",
    "    feature_data = df[feature_cols].values\n",
    "    target_data = df[target_col].values\n",
    "\n",
    "    X, y = [], []\n",
    "\n",
    "    for i in range(0, len(df) - window_size - forecast_horizon, step_size):\n",
    "        X.append(feature_data[i : i + window_size])  # Input-Sequenz\n",
    "        y.append(target_data[i + window_size : i + window_size + forecast_horizon])  # Zielwerte\n",
    "\n",
    "    return np.array(X), np.array(y)\n",
    "\n",
    "\n",
    "\n"
   ]
  },
  {
   "cell_type": "code",
   "execution_count": 33,
   "metadata": {},
   "outputs": [],
   "source": [
    "required_columns = [\"Date time\", \"Location\", \"shortwave_radiation_tilted\", \"Temperature\", \"kW/kWp\"]\n",
    "missing_cols = [col for col in required_columns if col not in df.columns]\n",
    "if missing_cols:\n",
    "    raise ValueError(f\"Fehlende Spalten in der Datenbank: {missing_cols}\")\n",
    "\n",
    "df = df.sort_values(by=[\"Location\", \"Date time\"]).reset_index(drop=True)"
   ]
  },
  {
   "cell_type": "code",
   "execution_count": null,
   "metadata": {},
   "outputs": [
    {
     "name": "stdout",
     "output_type": "stream",
     "text": [
      "Erstelle Sliding Windows für Bielefeld...\n",
      "Erstelle Sliding Windows für Gaithersburg...\n",
      "Erstelle Sliding Windows für Hongkong...\n",
      "Erstelle Sliding Windows für Istanbul...\n",
      "Erstelle Sliding Windows für Victoria...\n",
      "Finaler Tensor X Shape: (386464, 672, 2)\n",
      "Finaler Tensor y Shape: (386464, 96)\n"
     ]
    }
   ],
   "source": [
    "feature_cols = [\"shortwave_radiation_tilted\", \"Temperature\", \"kW/kWp\"]\n",
    "target_col = \"kW/kWp\"\n",
    "\n",
    "X_list, y_list = [], []\n",
    "\n",
    "for location in df[\"Location\"].unique():\n",
    "    print(f\"Erstelle Sliding Windows für {location}...\")\n",
    "\n",
    "    df_location = df[df[\"Location\"] == location].copy()\n",
    "\n",
    "    X, y = get_sliding_window(df_location, datetime_col=\"Date time\", feature_cols=feature_cols, target_col=target_col)\n",
    "\n",
    "    X_list.append(X)\n",
    "    y_list.append(y)\n",
    "\n",
    "X_final = np.concatenate(X_list, axis=0)  # Alle Input-Sequenzen\n",
    "y_final = np.concatenate(y_list, axis=0)  # Alle Zielwerte\n",
    "\n",
    "np.save(\"X_tensor.npy\", X_final)\n",
    "np.save(\"y_tensor.npy\", y_final)\n",
    "\n",
    "print(f\"Finaler Tensor X Shape: {X_final.shape}\")  # (Samples, Timesteps=672, Features=3)\n",
    "print(f\"Finaler Tensor y Shape: {y_final.shape}\")  # (Samples, Forecast_Horizon=96)\n"
   ]
  },
  {
   "cell_type": "code",
   "execution_count": null,
   "metadata": {},
   "outputs": [],
   "source": []
  },
  {
   "cell_type": "code",
   "execution_count": null,
   "metadata": {},
   "outputs": [],
   "source": []
  }
 ],
 "metadata": {
  "kernelspec": {
   "display_name": "master-venv",
   "language": "python",
   "name": "python3"
  },
  "language_info": {
   "codemirror_mode": {
    "name": "ipython",
    "version": 3
   },
   "file_extension": ".py",
   "mimetype": "text/x-python",
   "name": "python",
   "nbconvert_exporter": "python",
   "pygments_lexer": "ipython3",
   "version": "3.12.8"
  }
 },
 "nbformat": 4,
 "nbformat_minor": 2
}
